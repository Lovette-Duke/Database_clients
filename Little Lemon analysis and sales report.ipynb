{
 "cells": [
  {
   "cell_type": "markdown",
   "id": "647fc35f",
   "metadata": {},
   "source": [
    "# Set up the database"
   ]
  },
  {
   "cell_type": "markdown",
   "id": "6d2aea36",
   "metadata": {},
   "source": [
    "## Step 1: Establish a connection \n",
    "\n",
    "Open a new Jupyter notebook and import the MySQL Connector/Python API to establish a connection between Python and MySQL database. The code to establish a connection is given below. Use your own username and password when you are establishing a connection."
   ]
  },
  {
   "cell_type": "markdown",
   "id": "07196b0a",
   "metadata": {},
   "source": [
    "## Step 2: Create a cursor\n",
    "\n",
    "Once the connection between Python and MySQL database is successfully established, you need a cursor object to communicate with MySQL. Create a cursor using the code given below:"
   ]
  },
  {
   "cell_type": "code",
   "execution_count": 1,
   "id": "efa91097",
   "metadata": {},
   "outputs": [],
   "source": [
    "import mysql.connector as connector"
   ]
  },
  {
   "cell_type": "code",
   "execution_count": 2,
   "id": "b50eeed0",
   "metadata": {},
   "outputs": [],
   "source": [
    "# Establish connection between Python and MySQL database via connector API\n",
    "connection = connector.connect(\n",
    "                             user=\"sqltools\", # use your own\n",
    "                             password=\"sqltools\" # use your own\n",
    "                             )\n",
    "# Create cursor object to communicate with entire MySQL database\n",
    "cursor = connection.cursor()"
   ]
  },
  {
   "cell_type": "markdown",
   "id": "c8c515c3",
   "metadata": {},
   "source": [
    "## Step 3: Create the database and set it for use\n",
    "Now that you have a connection and a cursor, create a new database little_lemon_db using the code below.\n",
    "\n",
    "## Step 4: Create tables\n",
    "You now need tables so that you can insert the data. Use the following queries to create your table structure:"
   ]
  },
  {
   "cell_type": "code",
   "execution_count": 3,
   "id": "bfd95ffa",
   "metadata": {},
   "outputs": [
    {
     "name": "stdout",
     "output_type": "stream",
     "text": [
      "The database little_lemon is created.\n",
      "\n",
      "The database little_lemon is set for use.\n",
      "\n",
      "MenuItmes table is created.\n",
      "\n",
      "Menu table is created.\n",
      "\n",
      "Bookings table is created.\n",
      "\n",
      "Orders table is created.\n",
      "\n",
      "Employees table is created.\n",
      "\n",
      "Following tables are created in the little_lemon database.\n",
      "\n",
      "('bookings',)\n",
      "('employees',)\n",
      "('menuitems',)\n",
      "('menus',)\n",
      "('orders',)\n"
     ]
    }
   ],
   "source": [
    "# If exist, drop the database first, and create again\n",
    "try:\n",
    "    cursor.execute(\"CREATE DATABASE little_lemon\")\n",
    "except:\n",
    "    cursor.execute(\"drop database little_lemon\")\n",
    "    cursor.execute(\"CREATE DATABASE little_lemon\")\n",
    "print(\"The database little_lemon is created.\\n\")    \n",
    "\n",
    "# Set little_lemon database for use \n",
    "cursor.execute(\"USE little_lemon\")\n",
    "print(\"The database little_lemon is set for use.\\n\")\n",
    "\n",
    "# The SQL query for MenuItems table is: \n",
    "create_menuitem_table=\"\"\"\n",
    "CREATE TABLE MenuItems (\n",
    "ItemID INT AUTO_INCREMENT,\n",
    "Name VARCHAR(200),\n",
    "Type VARCHAR(100),\n",
    "Price INT,\n",
    "PRIMARY KEY (ItemID)\n",
    ");\"\"\"\n",
    "\n",
    "# Create MenuItems table\n",
    "cursor.execute(create_menuitem_table)\n",
    "print(\"MenuItmes table is created.\\n\")\n",
    "\n",
    "# The SQL query for Menu table is:\n",
    "create_menu_table=\"\"\"\n",
    "CREATE TABLE Menus (\n",
    "MenuID INT,\n",
    "ItemID INT,\n",
    "Cuisine VARCHAR(100),\n",
    "PRIMARY KEY (MenuID,ItemID)\n",
    ");\"\"\"\n",
    "\n",
    "# Create Menu table\n",
    "cursor.execute(create_menu_table)\n",
    "print(\"Menu table is created.\\n\")\n",
    "\n",
    "# The SQL query for Bookings table is:\n",
    "create_booking_table=\"\"\"\n",
    "CREATE TABLE Bookings (\n",
    "BookingID INT AUTO_INCREMENT,\n",
    "TableNo INT,\n",
    "GuestFirstName VARCHAR(100) NOT NULL,\n",
    "GuestLastName VARCHAR(100) NOT NULL,\n",
    "BookingSlot TIME NOT NULL,\n",
    "EmployeeID INT,\n",
    "PRIMARY KEY (BookingID)\n",
    ");\"\"\"\n",
    "\n",
    "# Create Bookings table\n",
    "cursor.execute(create_booking_table)\n",
    "print(\"Bookings table is created.\\n\")\n",
    "\n",
    "# The SQL query for Orders table is:\n",
    "create_orders_table=\"\"\"\n",
    "CREATE TABLE Orders (\n",
    "OrderID INT,\n",
    "TableNo INT,\n",
    "MenuID INT,\n",
    "BookingID INT,\n",
    "BillAmount INT,\n",
    "Quantity INT,\n",
    "PRIMARY KEY (OrderID,TableNo)\n",
    ");\"\"\"\n",
    "\n",
    "# Create Orders table\n",
    "cursor.execute(create_orders_table)\n",
    "print(\"Orders table is created.\\n\")\n",
    "\n",
    "# The SQL query for Orders table is:\n",
    "create_employees_table = \"\"\"CREATE TABLE Employees (\n",
    "EmployeeID INT AUTO_INCREMENT PRIMARY KEY,\n",
    "Name VARCHAR(20),\n",
    "Role VARCHAR(20),\n",
    "Address VARCHAR(250),\n",
    "Contact_Number INT,\n",
    "Email VARCHAR(100),\n",
    "Annual_Salary VARCHAR(20)\n",
    ");\"\"\"\n",
    "\n",
    "# Create employees table\n",
    "cursor.execute(create_employees_table)\n",
    "print(\"Employees table is created.\\n\")\n",
    "\n",
    "# Confirm if the tables are created\n",
    "print(\"Following tables are created in the little_lemon database.\\n\")\n",
    "cursor.execute(\"SHOW TABLES\")\n",
    "for table in cursor:\n",
    "    print(table)"
   ]
  },
  {
   "cell_type": "markdown",
   "id": "c69d0e43",
   "metadata": {},
   "source": [
    "## Step 5: Insert data\n",
    "The tables are ready for you to insert the data. Use the following INSERT queries to populate your tables in the little_lemon_db database. "
   ]
  },
  {
   "cell_type": "code",
   "execution_count": 4,
   "id": "83e86729",
   "metadata": {},
   "outputs": [],
   "source": [
    "#*******************************************************#\n",
    "# Insert query to populate \"MenuItems\" table is:\n",
    "#*******************************************************#\n",
    "insert_menuitmes=\"\"\"\n",
    "INSERT INTO MenuItems (ItemID, Name, Type, Price)\n",
    "VALUES\n",
    "(1,'Olives','Starters',5),\n",
    "(2,'Flatbread','Starters', 5),\n",
    "(3, 'Minestrone', 'Starters', 8),\n",
    "(4, 'Tomato bread','Starters', 8),\n",
    "(5, 'Falafel', 'Starters', 7),\n",
    "(6, 'Hummus', 'Starters', 5),\n",
    "(7, 'Greek salad', 'Main Courses', 15),\n",
    "(8, 'Bean soup', 'Main Courses', 12),\n",
    "(9, 'Pizza', 'Main Courses', 15),\n",
    "(10,'Greek yoghurt','Desserts', 7),\n",
    "(11, 'Ice cream', 'Desserts', 6),\n",
    "(12, 'Cheesecake', 'Desserts', 4),\n",
    "(13, 'Athens White wine', 'Drinks', 25),\n",
    "(14, 'Corfu Red Wine', 'Drinks', 30),\n",
    "(15, 'Turkish Coffee', 'Drinks', 10),\n",
    "(16, 'Turkish Coffee', 'Drinks', 10),\n",
    "(17, 'Kabasa', 'Main Courses', 17);\"\"\"\n",
    "\n",
    "#*******************************************************#\n",
    "# Insert query to populate \"Menu\" table is:\n",
    "#*******************************************************#\n",
    "insert_menu=\"\"\"\n",
    "INSERT INTO Menus (MenuID,ItemID,Cuisine)\n",
    "VALUES\n",
    "(1, 1, 'Greek'),\n",
    "(1, 7, 'Greek'),\n",
    "(1, 10, 'Greek'),\n",
    "(1, 13, 'Greek'),\n",
    "(2, 3, 'Italian'),\n",
    "(2, 9, 'Italian'),\n",
    "(2, 12, 'Italian'),\n",
    "(2, 15, 'Italian'),\n",
    "(3, 5, 'Turkish'),\n",
    "(3, 17, 'Turkish'),\n",
    "(3, 11, 'Turkish'),\n",
    "(3, 16, 'Turkish');\"\"\"\n",
    "\n",
    "#*******************************************************#\n",
    "# Insert query to populate \"Bookings\" table is:\n",
    "#*******************************************************#\n",
    "insert_bookings=\"\"\"\n",
    "INSERT INTO Bookings (BookingID, TableNo, GuestFirstName, \n",
    "GuestLastName, BookingSlot, EmployeeID)\n",
    "VALUES\n",
    "(1,12,'Anna','Iversen','19:00:00',1),\n",
    "(2, 12, 'Joakim', 'Iversen', '19:00:00', 1),\n",
    "(3, 19, 'Vanessa', 'McCarthy', '15:00:00', 3),\n",
    "(4, 15, 'Marcos', 'Romero', '17:30:00', 4),\n",
    "(5, 5, 'Hiroki', 'Yamane', '18:30:00', 2),\n",
    "(6, 8, 'Diana', 'Pinto', '20:00:00', 5);\"\"\"\n",
    "\n",
    "#*******************************************************#\n",
    "# Insert query to populate \"Orders\" table is:\n",
    "#*******************************************************#\n",
    "insert_orders=\"\"\"\n",
    "INSERT INTO Orders (OrderID, TableNo, MenuID, BookingID, Quantity, BillAmount)\n",
    "VALUES\n",
    "(1, 12, 1, 1, 2, 86),\n",
    "(2, 19, 2, 2, 1, 37),\n",
    "(3, 15, 2, 3, 1, 37),\n",
    "(4, 5, 3, 4, 1, 40),\n",
    "(5, 8, 1, 5, 1, 43);\"\"\"\n",
    "\n",
    "#*******************************************************#\n",
    "# Insert query to populate \"Employees\" table:\n",
    "#*******************************************************#\n",
    "insert_employees = \"\"\"\n",
    "INSERT INTO employees (EmployeeID, Name, Role, Address, Contact_Number, Email, Annual_Salary)\n",
    "VALUES\n",
    "(01,'Mario Gollini','Manager','724, Parsley Lane, Old Town, Chicago, IL',351258074,'Mario.g@littlelemon.com','$70,000'),\n",
    "(02,'Adrian Gollini','Assistant Manager','334, Dill Square, Lincoln Park, Chicago, IL',351474048,'Adrian.g@littlelemon.com','$65,000'),\n",
    "(03,'Giorgos Dioudis','Head Chef','879 Sage Street, West Loop, Chicago, IL',351970582,'Giorgos.d@littlelemon.com','$50,000'),\n",
    "(04,'Fatma Kaya','Assistant Chef','132  Bay Lane, Chicago, IL',351963569,'Fatma.k@littlelemon.com','$45,000'),\n",
    "(05,'Elena Salvai','Head Waiter','989 Thyme Square, EdgeWater, Chicago, IL',351074198,'Elena.s@littlelemon.com','$40,000'),\n",
    "(06,'John Millar','Receptionist','245 Dill Square, Lincoln Park, Chicago, IL',351584508,'John.m@littlelemon.com','$35,000');\"\"\"\n"
   ]
  },
  {
   "cell_type": "code",
   "execution_count": 5,
   "id": "85196036",
   "metadata": {},
   "outputs": [
    {
     "name": "stdout",
     "output_type": "stream",
     "text": [
      "Inserting data in MenuItems table.\n",
      "Total number of rows in MenuItem table:  17\n",
      "Inserting data in Menus table.\n",
      "Total number of rows in Menu table:  12\n",
      "Inserting data in Bookings table.\n",
      "Total number of rows in Bookings table:  6\n",
      "Inserting data in Orders table.\n",
      "Total number of rows in Orders table:  5\n",
      "Inserting data in Employees table.\n",
      "Total number of rows in Employees table:  6\n"
     ]
    }
   ],
   "source": [
    "print(\"Inserting data in MenuItems table.\")\n",
    "# Populate MenuItems table\n",
    "cursor.execute(insert_menuitmes)\n",
    "print(\"Total number of rows in MenuItem table: \", cursor.rowcount)\n",
    "# Once the query is executed, you commit the change into the database \n",
    "connection.commit()\n",
    "\n",
    "print(\"Inserting data in Menus table.\")\n",
    "# Populate MenuItems table\n",
    "cursor.execute(insert_menu)\n",
    "print(\"Total number of rows in Menu table: \", cursor.rowcount)\n",
    "connection.commit()\n",
    "\n",
    "print(\"Inserting data in Bookings table.\")\n",
    "# Populate Bookings table\n",
    "cursor.execute(insert_bookings)\n",
    "print(\"Total number of rows in Bookings table: \", cursor.rowcount)\n",
    "connection.commit()\n",
    "\n",
    "print(\"Inserting data in Orders table.\")\n",
    "# Populate Orders table\n",
    "cursor.execute(insert_orders)\n",
    "print(\"Total number of rows in Orders table: \", cursor.rowcount)\n",
    "connection.commit()\n",
    "\n",
    "print(\"Inserting data in Employees table.\")\n",
    "# Populate Orders table\n",
    "cursor.execute(insert_employees)\n",
    "print(\"Total number of rows in Employees table: \", cursor.rowcount)\n",
    "connection.commit()"
   ]
  },
  {
   "cell_type": "markdown",
   "id": "c2dfa4e1",
   "metadata": {},
   "source": [
    "# Implement and query stored procedures"
   ]
  },
  {
   "cell_type": "code",
   "execution_count": 6,
   "id": "1c1c5a73",
   "metadata": {},
   "outputs": [
    {
     "data": {
      "text/plain": [
       "'little_lemon'"
      ]
     },
     "execution_count": 6,
     "metadata": {},
     "output_type": "execute_result"
    }
   ],
   "source": [
    "# Set little_lemon for use \n",
    "cursor.execute(\"use little_lemon\")\n",
    "\n",
    "# Confirming\n",
    "connection.database"
   ]
  },
  {
   "cell_type": "markdown",
   "id": "d86dae2d",
   "metadata": {},
   "source": [
    "## Task 1: Establish a connection \n",
    "\n",
    "Step one: Import **MySQLConnectionPool**\n",
    "\n",
    "Step two: Import **Error**\n",
    "\n",
    "Step three: Create a pool named **pool_a** with two connections. Use a **try-except** block to handle any possible errors.\n",
    "\n",
    "Step four: Obtain a connection from pool_a and create a cursor object to communicate with the database."
   ]
  },
  {
   "cell_type": "code",
   "execution_count": 7,
   "id": "30f0a790",
   "metadata": {},
   "outputs": [],
   "source": [
    "from mysql.connector.pooling import MySQLConnectionPool\n",
    "from mysql.connector import Error"
   ]
  },
  {
   "cell_type": "code",
   "execution_count": 8,
   "id": "88f83683",
   "metadata": {},
   "outputs": [
    {
     "name": "stdout",
     "output_type": "stream",
     "text": [
      "The connection pool is created with a name:  pool_a\n",
      "The pool size is: 2\n"
     ]
    }
   ],
   "source": [
    "dbconfig = {\n",
    "    \"database\":\"little_lemon\",\n",
    "    \"user\" : \"sqltools\",\n",
    "    \"password\" : \"sqltools\"\n",
    "}\n",
    "\n",
    "try:\n",
    "    pool = MySQLConnectionPool(pool_name = \"pool_a\",\n",
    "                           pool_size = 2,\n",
    "                           **dbconfig)\n",
    "    print(\"The connection pool is created with a name: \",pool.pool_name)\n",
    "    print(\"The pool size is:\",pool.pool_size)\n",
    "\n",
    "except Error as er:\n",
    "    print(\"Error code:\", er.errno)\n",
    "    print(\"Error message:\", er.msg)"
   ]
  },
  {
   "cell_type": "code",
   "execution_count": 9,
   "id": "8cd809c2",
   "metadata": {},
   "outputs": [],
   "source": [
    "connection = pool.get_connection()\n",
    "cursor = connection.cursor()"
   ]
  },
  {
   "cell_type": "markdown",
   "id": "9175812d",
   "metadata": {},
   "source": [
    "## Task 2: Implement a stored procedure called PeakHours\n",
    "\n",
    "Step one: Write a SQL **CREATE PROCEDURE** query for **PeakHours**\n",
    "\n",
    "* Use **HOUR** to extract the hour part from the **BookingSlot**.\n",
    "\n",
    "* Use **COUNT** on hour to count the number of bookings.\n",
    "\n",
    "* Use **GROUP BY** on booking hour.\n",
    "\n",
    "* Use **ORDER BY** on the number of bookings in descending order.\n",
    "\n",
    "Step two: Run the stored procedure query by invoking execute module on the **cursor**.\n",
    "\n",
    "Step three: Invoke **callproc** to call the stored procedure.\n",
    "\n",
    "Step four: Fetch the results in a variable called **dataset**.\n",
    "\n",
    "Step five: Extract the names of the columns.\n",
    "\n",
    "Step six: Print the names of the columns.\n",
    "\n",
    "Step seven: Print the sorted data using for loop.\n",
    "\n"
   ]
  },
  {
   "cell_type": "code",
   "execution_count": 10,
   "id": "ed610f4d",
   "metadata": {},
   "outputs": [
    {
     "name": "stdout",
     "output_type": "stream",
     "text": [
      "('NofBookings', 'Hours')\n",
      "(1, 15)\n",
      "(1, 17)\n",
      "(1, 18)\n",
      "(1, 20)\n",
      "(2, 19)\n"
     ]
    }
   ],
   "source": [
    "cursor.execute('DROP PROCEDURE IF EXISTS PeakHours')\n",
    "\n",
    "peak_query = ''' CREATE PROCEDURE PeakHours()\n",
    "BEGIN\n",
    "SELECT COUNT(HOUR(BookingSlot)) AS NofBookings, HOUR(BookingSlot) AS Hours\n",
    "FROM Bookings\n",
    "GROUP BY Hours\n",
    "ORDER BY NofBookings;\n",
    "\n",
    "END\n",
    "'''\n",
    "\n",
    "cursor.execute(peak_query)\n",
    "cursor.callproc('PeakHours')\n",
    "\n",
    "results = next(cursor.stored_results())\n",
    "dataset = results.fetchall()\n",
    "\n",
    "print(results.column_names)\n",
    "for result in dataset:\n",
    "    print(result)"
   ]
  },
  {
   "cell_type": "markdown",
   "id": "a5833237",
   "metadata": {},
   "source": [
    "## Task 3: Implement a stored procedure GuestStatus\n",
    "\n",
    "Step one: Write a SQL CREATE PROCEDURE query for **GuestStatus**.\n",
    "\n",
    "Step two: Combine the guest’s first and last name from the booking column using **CONCAT**. \n",
    "\n",
    "Step three: Use **CASE** to implement the following statuses for each guest’s order:\n",
    "\n",
    "* If the **Role** in the Employee table is **Manager or Assistant Manager** then the guest’s order status is **Ready to pay**\n",
    "\n",
    "* If the **Role** in the Employee table is **Head Chef** then the status is **Ready to serve**\n",
    "\n",
    "* If the **Role** in the Employee table is **Assistant Chef** then the status is **Preparing Order**\n",
    "\n",
    "* If the **Role** in the Employee table is **Head Waiter** then the status is **Order served**\n",
    "\n",
    "Step four: **LEFT JOIN** Bookings table with Employees **ON EmployeeID**\n",
    "\n",
    "Step five: Run the stored procedure query by invoking execute module on the **cursor.**\n",
    "\n",
    "Step six: Invoke **callproc** to call the stored procedure.\n",
    "\n",
    "Step seven: Fetch the results in a variable called dataset.\n",
    "\n",
    "Step eight: Extract the names of the columns.\n",
    "\n",
    "Step nine: Print the names of the columns.\n",
    "\n",
    "Step ten: Print the sorted data using for loop.\n",
    "\n",
    "Step eleven: Close the connection to return it back to the pool."
   ]
  },
  {
   "cell_type": "code",
   "execution_count": 11,
   "id": "b2b0a43a",
   "metadata": {},
   "outputs": [
    {
     "name": "stdout",
     "output_type": "stream",
     "text": [
      "('GuestName', 'Status')\n",
      "('Anna Iversen', 'Ready to Pay')\n",
      "('Joakim Iversen', 'Ready to Pay')\n",
      "('Vanessa McCarthy', 'Ready to Serve')\n",
      "('Marcos Romero', 'Preparing Order')\n",
      "('Hiroki Yamane', 'Ready to Pay')\n",
      "('Diana Pinto', 'Order Served')\n"
     ]
    }
   ],
   "source": [
    "cursor.execute('DROP PROCEDURE IF EXISTS GuestStatus')\n",
    "\n",
    "guest_query = ''' CREATE PROCEDURE GuestStatus()\n",
    "BEGIN\n",
    "SELECT CONCAT(Bookings.GuestFirstName, ' ', Bookings.GuestLastName) AS GuestName,\n",
    "CASE\n",
    "WHEN Employees.Role IN ('Manager', 'Assistant Manager') THEN 'Ready to Pay'\n",
    "WHEN Employees.Role IN ('Head Chef') THEN 'Ready to Serve'\n",
    "WHEN Employees.Role IN ('Assistant Chef') THEN 'Preparing Order'\n",
    "ELSE 'Order Served'\n",
    "END AS Status\n",
    "FROM Bookings\n",
    "JOIN Employees \n",
    "ON Employees.EmployeeID = Bookings.EmployeeID;\n",
    "\n",
    "END\n",
    "'''\n",
    "\n",
    "cursor.execute(guest_query)\n",
    "cursor.callproc('GuestStatus')\n",
    "\n",
    "results = next(cursor.stored_results())\n",
    "dataset = results.fetchall()\n",
    "\n",
    "print(results.column_names)\n",
    "for result in dataset:\n",
    "    print(result)"
   ]
  },
  {
   "cell_type": "code",
   "execution_count": 12,
   "id": "a618b516",
   "metadata": {},
   "outputs": [],
   "source": [
    "# Let's close the cursor and the connection\n",
    "cursor.close()\n",
    "connection.close()"
   ]
  },
  {
   "cell_type": "markdown",
   "id": "e94a24b2",
   "metadata": {},
   "source": [
    "# Little Lemon analysis and sales report"
   ]
  },
  {
   "cell_type": "markdown",
   "id": "514fcd22",
   "metadata": {},
   "source": [
    "## Task 1:\n",
    "\n",
    "Complete the following steps to establish a connection pool:\n",
    "\n",
    "* To create a connection pool, import **MySQLConnectionPool** class from MySQL Connector/Python.\n",
    "\n",
    "* To find the information on the **error**, import the Error class from MySQL Connector/Python.\n",
    "\n",
    "* Define your database configurations as a Python dictionary object called **dbconfig**.\n",
    "\n",
    "* Establish a connection pool **[pool_name = pool_b]** with two connections. \n",
    "\n",
    "* Implement error handling using a **try-except** block in case the connection fails. "
   ]
  },
  {
   "cell_type": "code",
   "execution_count": 13,
   "id": "d8272596",
   "metadata": {},
   "outputs": [],
   "source": [
    "import mysql.connector as connector\n",
    "from mysql.connector.pooling import MySQLConnectionPool\n",
    "from mysql.connector import Error"
   ]
  },
  {
   "cell_type": "code",
   "execution_count": 14,
   "id": "3486fbe5",
   "metadata": {},
   "outputs": [],
   "source": [
    "# Establish connection between Python and MySQL database via connector API\n",
    "connection = connector.connect(\n",
    "                             user=\"sqltools\", # use your own\n",
    "                             password=\"sqltools\" # use your own\n",
    "                             )\n",
    "# Create cursor object to communicate with entire MySQL database\n",
    "cursor = connection.cursor()"
   ]
  },
  {
   "cell_type": "code",
   "execution_count": 15,
   "id": "4bc7331d",
   "metadata": {},
   "outputs": [
    {
     "data": {
      "text/plain": [
       "'little_lemon'"
      ]
     },
     "execution_count": 15,
     "metadata": {},
     "output_type": "execute_result"
    }
   ],
   "source": [
    "# Set little_lemon for use \n",
    "cursor.execute(\"use little_lemon\")\n",
    "\n",
    "# Confirming\n",
    "connection.database"
   ]
  },
  {
   "cell_type": "code",
   "execution_count": 16,
   "id": "e1a7cee7",
   "metadata": {},
   "outputs": [
    {
     "name": "stdout",
     "output_type": "stream",
     "text": [
      "The connection pool is created with a name:  pool_b\n",
      "The pool size is: 2\n"
     ]
    }
   ],
   "source": [
    "dbconfig = {\n",
    "    \"database\":\"little_lemon\",\n",
    "    \"user\" : \"sqltools\",\n",
    "    \"password\" : \"sqltools\"\n",
    "}\n",
    "\n",
    "try:\n",
    "    pool = MySQLConnectionPool(pool_name = \"pool_b\",\n",
    "                           pool_size = 2,\n",
    "                           **dbconfig)\n",
    "    print(\"The connection pool is created with a name: \",pool.pool_name)\n",
    "    print(\"The pool size is:\",pool.pool_size)\n",
    "\n",
    "except Error as er:\n",
    "    print(\"Error code:\", er.errno)\n",
    "    print(\"Error message:\", er.msg)"
   ]
  },
  {
   "cell_type": "markdown",
   "id": "219ecc40",
   "metadata": {},
   "source": [
    "## Task 2:\n",
    "\n",
    "Three guests are trying to book dinner slots simultaneously. Get the connections from **pool_b** and insert the following data in the **Bookings** table:\n",
    "\n",
    "\n",
    "TIP: You need to add a connection to connect the third guest.\n",
    "\n",
    "\n",
    "Guest 1:\n",
    "\n",
    "* Table Number: 8\n",
    "\n",
    "* First Name: Anees\n",
    "\n",
    "* Last Name: Java\n",
    "\n",
    "* Booking Time: 18:00\n",
    "\n",
    "* EmployeeID: 6\n",
    "\n",
    "\n",
    "Guest 2:\n",
    "\n",
    "* Table Number: 5\n",
    "\n",
    "* First Name: Bald\n",
    "\n",
    "* Last Name: Vin\n",
    "\n",
    "* Booking Time: 19:00\n",
    "\n",
    "* EmployeeID: 6\n",
    "\n",
    "\n",
    "Guest 3:\n",
    "\n",
    "* Table Number: 12\n",
    "\n",
    "* First Name: Jay\n",
    "\n",
    "* Last Name: Kon\n",
    "\n",
    "* Booking Time: 19:30 \n",
    "\n",
    "* EmployeeID: 6\n",
    "\n",
    "\n",
    "Return all the connections back to the pool. \n",
    "\n",
    "\n",
    "**TIP**: The pool size is two. However, you have three connected users. You can only return two connections. Returning a third connection will raise a **PoolError**. Use **try-except** to print the error message.  "
   ]
  },
  {
   "cell_type": "code",
   "execution_count": 17,
   "id": "0c2ae4cb",
   "metadata": {},
   "outputs": [
    {
     "name": "stdout",
     "output_type": "stream",
     "text": [
      "Anees is connected.\n",
      "\n",
      "Inserting data in Bookings table.\n",
      "Bald is connected.\n",
      "\n",
      "Inserting data in Bookings table.\n",
      "Adding new connection in the pool.\n",
      "A new connection is added to the pool.\n",
      "\n",
      "Jay is connected.\n",
      "\n",
      "Inserting data in Bookings table.\n",
      "\n",
      "\n",
      "Returning the connection back to the pool.\n",
      "Connection is returned to the pool\n"
     ]
    }
   ],
   "source": [
    "update_query = ''' \n",
    "INSERT INTO Bookings (TableNo, GuestFirstName, \n",
    "GuestLastName, BookingSlot, EmployeeID)\n",
    "VALUES \n",
    "(8, 'Anees', 'Java', '18:00:00', 6),\n",
    "(5, 'Bald', 'Vin', '19:00:00', 6),\n",
    "(12, 'Jay', 'kon', '19:30:00', 6)\n",
    "'''\n",
    "\n",
    "guests = [\"Anees\", \"Bald\", \"Jay\"]\n",
    "\n",
    "for i, guest in enumerate(guests):\n",
    "    if i <= 1:\n",
    "        guest_conn = pool.get_connection()\n",
    "        print(\"{} is connected.\\n\".format(guest))\n",
    "        cursor = guest_conn.cursor()\n",
    "        \n",
    "        print(\"Inserting data in Bookings table.\")\n",
    "        # Populate Bookings table\n",
    "        cursor.execute(update_query)\n",
    "        connection.commit()\n",
    "        \n",
    "    else:\n",
    "        print(\"Adding new connection in the pool.\")\n",
    "        \n",
    "        # Create a connection\n",
    "        connection = connector.connect(user=\"sqltools\",password=\"sqltools\")\n",
    "        # Add the connection into the pool\n",
    "        pool.add_connection(cnx=connection)\n",
    "        print(\"A new connection is added to the pool.\\n\")\n",
    "        \n",
    "        user_conn2 = pool.get_connection()\n",
    "        print(\"{} is connected.\\n\".format(guest))\n",
    "        \n",
    "\n",
    "        cursor = user_conn2.cursor()\n",
    "        \n",
    "        print(\"Inserting data in Bookings table.\\n\")\n",
    "        # Populate Bookings table\n",
    "        cursor.execute(update_query)\n",
    "        connection.commit()\n",
    "\n",
    "# Put the connection back to the pool    \n",
    "print(\"\\nReturning the connection back to the pool.\")\n",
    "try:\n",
    "    guest_conn.close()\n",
    "    print(\"Connection is returned to the pool\")\n",
    "except Error as er:\n",
    "    print(\"\\nConnection can't be returned to the pool\")\n",
    "    print(\"Error message:\", er.msg)"
   ]
  },
  {
   "cell_type": "markdown",
   "id": "6907c700",
   "metadata": {},
   "source": [
    "## Task 3:\n",
    "\n",
    "Create a report containing the following information:\n",
    "\n",
    "* The name and **EmployeeID** of the Little Lemon manager.\n",
    "\n",
    "* The name and role of the employee who receives the highest salary.\n",
    "\n",
    "* The number of guests booked between 18:00 and 20:00.\n",
    "\n",
    "* The full name and **BookingID** of all guests waiting to be seated with the receptionist in sorted order with respect to their **BookingSlot**."
   ]
  },
  {
   "cell_type": "code",
   "execution_count": 18,
   "id": "508f388a",
   "metadata": {},
   "outputs": [],
   "source": [
    "# Establish connection between Python and MySQL database via connector API\n",
    "connection = connector.connect(\n",
    "                             user=\"sqltools\", # use your own\n",
    "                             password=\"sqltools\" # use your own\n",
    "                             )\n",
    "# Create cursor object to communicate with entire MySQL database\n",
    "cursor = connection.cursor()"
   ]
  },
  {
   "cell_type": "code",
   "execution_count": 19,
   "id": "99dadcb4",
   "metadata": {},
   "outputs": [
    {
     "data": {
      "text/plain": [
       "'little_lemon'"
      ]
     },
     "execution_count": 19,
     "metadata": {},
     "output_type": "execute_result"
    }
   ],
   "source": [
    "# Set little_lemon for use \n",
    "cursor.execute(\"use little_lemon\")\n",
    "\n",
    "# Confirming\n",
    "connection.database"
   ]
  },
  {
   "cell_type": "code",
   "execution_count": 20,
   "id": "2b177375",
   "metadata": {},
   "outputs": [
    {
     "name": "stdout",
     "output_type": "stream",
     "text": [
      "('EmployeeID', 'Name')\n",
      "(1, 'Mario Gollini')\n"
     ]
    }
   ],
   "source": [
    "# The name and EmployeeID of the Little Lemon manager.\n",
    "manager = ''' \n",
    "SELECT EmployeeID, Name\n",
    "FROM Employees \n",
    "WHERE Role = \"Manager\"'''\n",
    "\n",
    "cursor.execute(manager)\n",
    "print(cursor.column_names)\n",
    "\n",
    "for manager in cursor.fetchall():\n",
    "    print(manager)"
   ]
  },
  {
   "cell_type": "code",
   "execution_count": 21,
   "id": "05a30a4e",
   "metadata": {},
   "outputs": [
    {
     "name": "stdout",
     "output_type": "stream",
     "text": [
      "('Name', 'Role')\n",
      "('Mario Gollini', 'Manager')\n"
     ]
    }
   ],
   "source": [
    "# The name and role of the employee who receives the highest salary.\n",
    "salary = ''' \n",
    "SELECT Name, Role\n",
    "FROM Employees \n",
    "WHERE Annual_Salary = (SELECT MAX(Annual_Salary) FROM Employees)\n",
    "'''\n",
    "\n",
    "cursor.execute(salary)\n",
    "print(cursor.column_names)\n",
    "\n",
    "for salary in cursor.fetchall():\n",
    "    print(salary)"
   ]
  },
  {
   "cell_type": "code",
   "execution_count": 22,
   "id": "509e39dc",
   "metadata": {},
   "outputs": [
    {
     "name": "stdout",
     "output_type": "stream",
     "text": [
      "The number of guests booked between 18:00 and 20:00 are:  (7,)\n"
     ]
    }
   ],
   "source": [
    "# The number of guests booked between 18:00 and 20:00.\n",
    "guests = ''' \n",
    "SELECT COUNT(GuestFirstName) AS NofGuests\n",
    "FROM Bookings \n",
    "WHERE BookingSlot BETWEEN '18:00:00' AND '20:00:00'\n",
    "'''\n",
    "\n",
    "cursor.execute(guests)\n",
    "\n",
    "for guest in cursor.fetchall():\n",
    "    print('The number of guests booked between 18:00 and 20:00 are: ',guest)"
   ]
  },
  {
   "cell_type": "code",
   "execution_count": 23,
   "id": "365d0fe0",
   "metadata": {},
   "outputs": [
    {
     "name": "stdout",
     "output_type": "stream",
     "text": [
      "The following guests are in the reception ->\n",
      "(15, 'Jay kon')\n",
      "(14, 'Bald Vin')\n",
      "(13, 'Anees Java')\n"
     ]
    }
   ],
   "source": [
    "# The full name and BookingID of all guests waiting to be seated with \n",
    "# the receptionist in sorted order with respect to their BookingSlot.\n",
    "\n",
    "reception = '''\n",
    "SELECT Bookings.BookingID, CONCAT(GuestFirstName, ' ', GuestLastName)\n",
    "FROM Bookings\n",
    "JOIN Employees \n",
    "ON Bookings.EmployeeID = Employees.EmployeeID\n",
    "WHERE Role = \"Receptionist\"\n",
    "ORDER BY BookingSlot DESC'''\n",
    "\n",
    "cursor.execute(reception)\n",
    "print('The following guests are in the reception ->')\n",
    "\n",
    "for guest in cursor.fetchall():\n",
    "    print(guest)"
   ]
  },
  {
   "cell_type": "markdown",
   "id": "c3045d54",
   "metadata": {},
   "source": [
    "## Task 4:\n",
    "\n",
    "Create a stored procedure called BasicSalesReport that returns the following statistics. \n",
    "\n",
    "* Total sales\n",
    "\n",
    "* Average sale\n",
    "\n",
    "* Minimum bill paid\n",
    "\n",
    "* Maximum bill paid"
   ]
  },
  {
   "cell_type": "code",
   "execution_count": 24,
   "id": "f0c4b25f",
   "metadata": {},
   "outputs": [
    {
     "name": "stdout",
     "output_type": "stream",
     "text": [
      "Total_sale : 243\n",
      "Average_sale : 48.6000\n",
      "Minimum_bill : 37\n",
      "Maximum_bill : 86\n"
     ]
    }
   ],
   "source": [
    "cursor.execute('DROP PROCEDURE IF EXISTS BasicSalesReport')\n",
    "proc_query = '''\n",
    "CREATE PROCEDURE BasicSalesReport()\n",
    "BEGIN\n",
    "SELECT SUM(BillAmount) AS Total_sale, AVG(BillAmount) AS Average_sale, \n",
    "MIN(BillAmount) AS Minimum_bill, MAX(BillAmount) AS Maximum_bill\n",
    "FROM Orders;\n",
    "END'''\n",
    "\n",
    "cursor.execute(proc_query)\n",
    "\n",
    "cursor.callproc('BasicSalesReport')\n",
    "\n",
    "results = next(cursor.stored_results())\n",
    "dataset = results.fetchall()\n",
    "\n",
    "col = results.column_names\n",
    "\n",
    "for result in dataset:\n",
    "    print(col[0], \":\", result[0])\n",
    "    print(col[1], \":\", result[1])\n",
    "    print(col[2], \":\", result[2])\n",
    "    print(col[3], \":\", result[3])\n"
   ]
  },
  {
   "cell_type": "markdown",
   "id": "ae86c467",
   "metadata": {},
   "source": [
    "## Task 5:       \n",
    "\n",
    "Little Lemon needs to display the next three upcoming bookings from the **Bookings** table on the kitchen screen to notify their chefs that the orders are due. \n",
    "\n",
    "Get a connection from the pool.\n",
    "\n",
    "Create a buffered cursor.\n",
    "\n",
    "Combine the data from the Bookings and the Employee tables, sort the retrieved records in ascending order, and display the information of the first three guests. \n",
    "\n",
    "Return the connection back to the pool.\n",
    "\n",
    "The output should be as follows:\n",
    "\n",
    "**[BookingSlot]**\n",
    "\n",
    "**[Guest_name]**\n",
    "\n",
    "**[Assigned to: Employee Name [Employee Role]]**\n",
    "\n"
   ]
  },
  {
   "cell_type": "code",
   "execution_count": 25,
   "id": "8b14124e",
   "metadata": {},
   "outputs": [
    {
     "name": "stdout",
     "output_type": "stream",
     "text": [
      "Booking Slot:  15:00:00\n",
      "Guest Name:  Vanessa McCarthy\n",
      "Assigned to: Giorgos Dioudis [Head Chef]\n",
      "\n",
      "Booking Slot:  17:30:00\n",
      "Guest Name:  Marcos Romero\n",
      "Assigned to: Fatma Kaya [Assistant Chef]\n",
      "\n",
      "Booking Slot:  18:00:00\n",
      "Guest Name:  Anees Java\n",
      "Assigned to: John Millar [Receptionist]\n",
      "\n"
     ]
    }
   ],
   "source": [
    "guest_conn = pool.get_connection()\n",
    "cursor = guest_conn.cursor(buffered=True)\n",
    "\n",
    "display = '''\n",
    "SELECT BookingSlot, CONCAT(GuestFirstName, ' ', GuestLastName) AS GuestName, Name, Role\n",
    "FROM Bookings\n",
    "JOIN Employees \n",
    "ON Bookings.EmployeeID = Employees.EmployeeID\n",
    "ORDER BY BookingSlot\n",
    "LIMIT 3'''\n",
    "\n",
    "cursor.execute(display)\n",
    "\n",
    "for guest in cursor.fetchall():\n",
    "    print('Booking Slot: ', guest[0])\n",
    "    print('Guest Name: ', guest[1])\n",
    "    print('Assigned to: {} [{}]\\n'.format(guest[2], guest[3]))\n",
    "    \n"
   ]
  },
  {
   "cell_type": "code",
   "execution_count": null,
   "id": "8fd7e8aa",
   "metadata": {},
   "outputs": [],
   "source": []
  }
 ],
 "metadata": {
  "kernelspec": {
   "display_name": "Python 3 (ipykernel)",
   "language": "python",
   "name": "python3"
  },
  "language_info": {
   "codemirror_mode": {
    "name": "ipython",
    "version": 3
   },
   "file_extension": ".py",
   "mimetype": "text/x-python",
   "name": "python",
   "nbconvert_exporter": "python",
   "pygments_lexer": "ipython3",
   "version": "3.7.11"
  }
 },
 "nbformat": 4,
 "nbformat_minor": 5
}
